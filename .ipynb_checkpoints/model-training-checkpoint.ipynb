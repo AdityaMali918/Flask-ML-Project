{
 "cells": [
  {
   "cell_type": "code",
   "execution_count": 29,
   "id": "be606145-5d2c-451f-b874-58457f917ec3",
   "metadata": {},
   "outputs": [],
   "source": [
    "import pandas as pd\n",
    "\n",
    "import matplotlib.pyplot as plt\n",
    "\n",
    "import sklearn\n",
    "\n",
    "from sklearn.impute import SimpleImputer \n",
    "from sklearn.preprocessing import StandardScaler,OneHotEncoder\n",
    "\n",
    "import joblib\n"
   ]
  },
  {
   "cell_type": "markdown",
   "id": "b8e28eed-ea9c-4d7d-b039-8010d0dd2c03",
   "metadata": {},
   "source": [
    "## 2. Display Settings"
   ]
  },
  {
   "cell_type": "code",
   "execution_count": 12,
   "id": "455db849-f94f-44c3-bb1a-97b5a72d7de7",
   "metadata": {},
   "outputs": [],
   "source": [
    "#TO get all columns\n",
    "pd.set_option(\"display.max_columns\",None)"
   ]
  },
  {
   "cell_type": "code",
   "execution_count": 13,
   "id": "92e493b0-9fb4-4ce0-a74d-5c2b3c05948c",
   "metadata": {},
   "outputs": [],
   "source": [
    "#sklearn by default gives numpy but to get data pandas Dataframe\n",
    "sklearn.set_config(transform_output=\"pandas\")"
   ]
  },
  {
   "cell_type": "markdown",
   "id": "f188e686-905f-42de-aacf-67eb7b0c826e",
   "metadata": {},
   "source": [
    "## 3.Get Data"
   ]
  },
  {
   "cell_type": "code",
   "execution_count": 15,
   "id": "b1cf6c15-57b4-4deb-b980-186c235c0134",
   "metadata": {},
   "outputs": [],
   "source": [
    "train_df = pd.read_csv(\"data/train.csv\")\n",
    "test_df = pd.read_csv(\"data/test.csv\")\n",
    "val_df = pd.read_csv(\"data/val.csv\")"
   ]
  },
  {
   "cell_type": "markdown",
   "id": "21247cf9-2d13-450a-a5de-041490003b37",
   "metadata": {},
   "source": [
    "### 3.1 Split the Data"
   ]
  },
  {
   "cell_type": "code",
   "execution_count": 16,
   "id": "ddabc30d-4b1a-436c-afc7-68b2f1930c07",
   "metadata": {},
   "outputs": [],
   "source": [
    "def split_data(data):\n",
    "    X = data.drop(columns=\"price\")\n",
    "    y = data.price.copy()\n",
    "    return (X,y)"
   ]
  },
  {
   "cell_type": "code",
   "execution_count": 18,
   "id": "510ad000-5035-43cf-99a2-98e75a177e9b",
   "metadata": {},
   "outputs": [
    {
     "data": {
      "text/plain": [
       "0       4995\n",
       "1       8372\n",
       "2       6117\n",
       "3       7770\n",
       "4       9187\n",
       "       ...  \n",
       "635     4282\n",
       "636    13067\n",
       "637     4423\n",
       "638     7670\n",
       "639    10844\n",
       "Name: price, Length: 640, dtype: int64"
      ]
     },
     "execution_count": 18,
     "metadata": {},
     "output_type": "execute_result"
    }
   ],
   "source": [
    "X_train,y_train = split_data(train_df)\n",
    "y_train"
   ]
  },
  {
   "cell_type": "code",
   "execution_count": 19,
   "id": "c75fa4c8-4f14-49f4-b343-4d6d75f14510",
   "metadata": {},
   "outputs": [],
   "source": [
    "X_val,y_val = split_data(val_df)"
   ]
  },
  {
   "cell_type": "code",
   "execution_count": 20,
   "id": "da1f3a06-6ab0-480d-bee5-239260872185",
   "metadata": {},
   "outputs": [],
   "source": [
    "X_test,y_test = split_data(test_df)"
   ]
  },
  {
   "cell_type": "markdown",
   "id": "24de28e6-0d1c-454b-8501-026de745dfab",
   "metadata": {},
   "source": [
    "## 4. Data PreProcessing"
   ]
  },
  {
   "cell_type": "code",
   "execution_count": 25,
   "id": "d7db4b36-402c-47e6-96a8-23a126eb08e6",
   "metadata": {},
   "outputs": [
    {
     "name": "stdout",
     "output_type": "stream",
     "text": [
      "<class 'pandas.core.frame.DataFrame'>\n",
      "RangeIndex: 200 entries, 0 to 199\n",
      "Data columns (total 9 columns):\n",
      " #   Column           Non-Null Count  Dtype  \n",
      "---  ------           --------------  -----  \n",
      " 0   airline          200 non-null    object \n",
      " 1   date_of_journey  200 non-null    object \n",
      " 2   source           200 non-null    object \n",
      " 3   destination      200 non-null    object \n",
      " 4   dep_time         200 non-null    object \n",
      " 5   arrival_time     200 non-null    object \n",
      " 6   duration         200 non-null    int64  \n",
      " 7   total_stops      200 non-null    float64\n",
      " 8   additional_info  200 non-null    object \n",
      "dtypes: float64(1), int64(1), object(7)\n",
      "memory usage: 14.2+ KB\n"
     ]
    }
   ],
   "source": [
    "X_test.info()"
   ]
  },
  {
   "cell_type": "code",
   "execution_count": 26,
   "id": "ea0dc9e8-2fc4-41bc-8bd7-e9cdd1b280ce",
   "metadata": {},
   "outputs": [],
   "source": [
    "dt_colums = [\"date_of_journey\",\"dep_time\",\"arrival_time\"]\n",
    "\n",
    "num_columns = [\"duration\",\"total_stops\"]\n",
    "\n",
    "cat_col = [col for col in X_train.columns if(col not in dt_colums) and (col not in num_columns)]"
   ]
  },
  {
   "cell_type": "code",
   "execution_count": 27,
   "id": "865be7f6-a891-4fda-9868-34e56b23cca1",
   "metadata": {},
   "outputs": [
    {
     "data": {
      "text/plain": [
       "['airline', 'source', 'destination', 'additional_info']"
      ]
     },
     "execution_count": 27,
     "metadata": {},
     "output_type": "execute_result"
    }
   ],
   "source": [
    "cat_col"
   ]
  },
  {
   "cell_type": "code",
   "execution_count": null,
   "id": "2c1b176d-464e-4ce5-99ef-e248ec7342cb",
   "metadata": {},
   "outputs": [],
   "source": []
  }
 ],
 "metadata": {
  "kernelspec": {
   "display_name": "Python (env)",
   "language": "python",
   "name": "env"
  },
  "language_info": {
   "codemirror_mode": {
    "name": "ipython",
    "version": 3
   },
   "file_extension": ".py",
   "mimetype": "text/x-python",
   "name": "python",
   "nbconvert_exporter": "python",
   "pygments_lexer": "ipython3",
   "version": "3.11.9"
  }
 },
 "nbformat": 4,
 "nbformat_minor": 5
}
